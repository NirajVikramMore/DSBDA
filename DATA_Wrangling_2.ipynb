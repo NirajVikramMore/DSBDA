{
 "cells": [
  {
   "cell_type": "markdown",
   "id": "ab052839-bdb8-47bb-b1be-6631e48ae216",
   "metadata": {},
   "source": [
    "Data Wrangling II operations using Python. (e.g., Academic_Performance.csv)\n",
    "1. Scan all variables for missing values and inconsistencies. If there are missing values\n",
    "and/or inconsistencies, use any of the suitable techniques to deal with them(using mean\n",
    "and mode).Apply for single column and whole dataset.\n",
    "2. Scan all numeric variables for outliers. If there are outliers,any of the suitable\n",
    "techniques to deal with them.(using z score)\n",
    "3. Display and Remove the outliers\n",
    "4. Apply data transformations on at least one of the variables Create bins and Labels.\n",
    "5. Draw box plot"
   ]
  },
  {
   "cell_type": "code",
   "execution_count": 1,
   "id": "e05f2d93-06f5-4afc-b944-0cb967a24f18",
   "metadata": {},
   "outputs": [],
   "source": [
    "import pandas as pd\n",
    "import numpy as np\n",
    "import matplotlib.pyplot as plt"
   ]
  },
  {
   "cell_type": "code",
   "execution_count": 2,
   "id": "976184f5-3523-4e6e-a338-b7e361f5777a",
   "metadata": {},
   "outputs": [],
   "source": [
    "df = pd.read_csv(r\"C:\\Users\\Niraj More\\OneDrive\\Desktop\\DSBDA\\Practice\\PR_EXAM_DATASET\\AcademicPerformance_New.csv\")"
   ]
  },
  {
   "cell_type": "code",
   "execution_count": 3,
   "id": "5da426c4-9ebd-482c-99f6-0ce4066ef8f6",
   "metadata": {},
   "outputs": [
    {
     "data": {
      "text/html": [
       "<div>\n",
       "<style scoped>\n",
       "    .dataframe tbody tr th:only-of-type {\n",
       "        vertical-align: middle;\n",
       "    }\n",
       "\n",
       "    .dataframe tbody tr th {\n",
       "        vertical-align: top;\n",
       "    }\n",
       "\n",
       "    .dataframe thead th {\n",
       "        text-align: right;\n",
       "    }\n",
       "</style>\n",
       "<table border=\"1\" class=\"dataframe\">\n",
       "  <thead>\n",
       "    <tr style=\"text-align: right;\">\n",
       "      <th></th>\n",
       "      <th>Roll No</th>\n",
       "      <th>NationalITy</th>\n",
       "      <th>WT</th>\n",
       "      <th>DSBDA</th>\n",
       "      <th>AI</th>\n",
       "      <th>Average</th>\n",
       "      <th>Grade</th>\n",
       "      <th>PG</th>\n",
       "    </tr>\n",
       "  </thead>\n",
       "  <tbody>\n",
       "    <tr>\n",
       "      <th>0</th>\n",
       "      <td>1.0</td>\n",
       "      <td>India</td>\n",
       "      <td>72.0</td>\n",
       "      <td>72.0</td>\n",
       "      <td>74.0</td>\n",
       "      <td>72.666667</td>\n",
       "      <td>C</td>\n",
       "      <td>Yes</td>\n",
       "    </tr>\n",
       "    <tr>\n",
       "      <th>1</th>\n",
       "      <td>2.0</td>\n",
       "      <td>Japan</td>\n",
       "      <td>69.0</td>\n",
       "      <td>90.0</td>\n",
       "      <td>NaN</td>\n",
       "      <td>53.000000</td>\n",
       "      <td>B</td>\n",
       "      <td>No</td>\n",
       "    </tr>\n",
       "    <tr>\n",
       "      <th>2</th>\n",
       "      <td>NaN</td>\n",
       "      <td>NaN</td>\n",
       "      <td>NaN</td>\n",
       "      <td>NaN</td>\n",
       "      <td>NaN</td>\n",
       "      <td>NaN</td>\n",
       "      <td>NaN</td>\n",
       "      <td>NaN</td>\n",
       "    </tr>\n",
       "    <tr>\n",
       "      <th>3</th>\n",
       "      <td>4.0</td>\n",
       "      <td>China</td>\n",
       "      <td>47.0</td>\n",
       "      <td>NaN</td>\n",
       "      <td>44.0</td>\n",
       "      <td>30.333333</td>\n",
       "      <td>D</td>\n",
       "      <td>Yes</td>\n",
       "    </tr>\n",
       "    <tr>\n",
       "      <th>4</th>\n",
       "      <td>5.0</td>\n",
       "      <td>India</td>\n",
       "      <td>76.0</td>\n",
       "      <td>78.0</td>\n",
       "      <td>NaN</td>\n",
       "      <td>51.333333</td>\n",
       "      <td>C</td>\n",
       "      <td>No</td>\n",
       "    </tr>\n",
       "    <tr>\n",
       "      <th>...</th>\n",
       "      <td>...</td>\n",
       "      <td>...</td>\n",
       "      <td>...</td>\n",
       "      <td>...</td>\n",
       "      <td>...</td>\n",
       "      <td>...</td>\n",
       "      <td>...</td>\n",
       "      <td>...</td>\n",
       "    </tr>\n",
       "    <tr>\n",
       "      <th>94</th>\n",
       "      <td>95.0</td>\n",
       "      <td>USA</td>\n",
       "      <td>79.0</td>\n",
       "      <td>NaN</td>\n",
       "      <td>NaN</td>\n",
       "      <td>26.333333</td>\n",
       "      <td>A</td>\n",
       "      <td>No</td>\n",
       "    </tr>\n",
       "    <tr>\n",
       "      <th>95</th>\n",
       "      <td>96.0</td>\n",
       "      <td>Japan</td>\n",
       "      <td>78.0</td>\n",
       "      <td>81.0</td>\n",
       "      <td>82.0</td>\n",
       "      <td>80.333333</td>\n",
       "      <td>A</td>\n",
       "      <td>No</td>\n",
       "    </tr>\n",
       "    <tr>\n",
       "      <th>96</th>\n",
       "      <td>97.0</td>\n",
       "      <td>USA</td>\n",
       "      <td>65.0</td>\n",
       "      <td>66.0</td>\n",
       "      <td>62.0</td>\n",
       "      <td>64.333333</td>\n",
       "      <td>B</td>\n",
       "      <td>No</td>\n",
       "    </tr>\n",
       "    <tr>\n",
       "      <th>97</th>\n",
       "      <td>98.0</td>\n",
       "      <td>Rassia</td>\n",
       "      <td>63.0</td>\n",
       "      <td>72.0</td>\n",
       "      <td>70.0</td>\n",
       "      <td>68.333333</td>\n",
       "      <td>B</td>\n",
       "      <td>Yes</td>\n",
       "    </tr>\n",
       "    <tr>\n",
       "      <th>98</th>\n",
       "      <td>99.0</td>\n",
       "      <td>India</td>\n",
       "      <td>58.0</td>\n",
       "      <td>67.0</td>\n",
       "      <td>NaN</td>\n",
       "      <td>41.666667</td>\n",
       "      <td>B</td>\n",
       "      <td>No</td>\n",
       "    </tr>\n",
       "  </tbody>\n",
       "</table>\n",
       "<p>99 rows × 8 columns</p>\n",
       "</div>"
      ],
      "text/plain": [
       "    Roll No NationalITy    WT  DSBDA    AI    Average Grade   PG\n",
       "0       1.0       India  72.0   72.0  74.0  72.666667     C  Yes\n",
       "1       2.0       Japan  69.0   90.0   NaN  53.000000     B   No\n",
       "2       NaN         NaN   NaN    NaN   NaN        NaN   NaN  NaN\n",
       "3       4.0       China  47.0    NaN  44.0  30.333333     D  Yes\n",
       "4       5.0       India  76.0   78.0   NaN  51.333333     C   No\n",
       "..      ...         ...   ...    ...   ...        ...   ...  ...\n",
       "94     95.0         USA  79.0    NaN   NaN  26.333333     A   No\n",
       "95     96.0       Japan  78.0   81.0  82.0  80.333333     A   No\n",
       "96     97.0         USA  65.0   66.0  62.0  64.333333     B   No\n",
       "97     98.0      Rassia  63.0   72.0  70.0  68.333333     B  Yes\n",
       "98     99.0       India  58.0   67.0   NaN  41.666667     B   No\n",
       "\n",
       "[99 rows x 8 columns]"
      ]
     },
     "execution_count": 3,
     "metadata": {},
     "output_type": "execute_result"
    }
   ],
   "source": [
    "df"
   ]
  },
  {
   "cell_type": "code",
   "execution_count": 4,
   "id": "d359f465-92b8-4c94-b1f5-269e5bd48c16",
   "metadata": {},
   "outputs": [],
   "source": [
    "# plt.boxplot(df['Roll No'])\n",
    "# plt.show()"
   ]
  },
  {
   "cell_type": "markdown",
   "id": "3bd30286-27d8-46ed-aa0d-7c4ac340406c",
   "metadata": {},
   "source": [
    "# # Scan all variables for missing values and inconsistencies. If there are missing values and/or inconsistencies, use any of the suitable techniques to deal with them(using mean and mode).Apply for single column and whole dataset."
   ]
  },
  {
   "cell_type": "code",
   "execution_count": 5,
   "id": "58651502-fa89-4eb3-afde-25f229cca0e6",
   "metadata": {},
   "outputs": [
    {
     "data": {
      "text/plain": [
       "Roll No         1\n",
       "NationalITy     1\n",
       "WT              8\n",
       "DSBDA           4\n",
       "AI             10\n",
       "Average         1\n",
       "Grade           1\n",
       "PG              1\n",
       "dtype: int64"
      ]
     },
     "execution_count": 5,
     "metadata": {},
     "output_type": "execute_result"
    }
   ],
   "source": [
    "df.isnull().sum()"
   ]
  },
  {
   "cell_type": "code",
   "execution_count": 6,
   "id": "5ca962d1-60f2-4ea9-8380-46200f8eb361",
   "metadata": {},
   "outputs": [
    {
     "data": {
      "text/plain": [
       "Roll No        float64\n",
       "NationalITy     object\n",
       "WT             float64\n",
       "DSBDA          float64\n",
       "AI             float64\n",
       "Average        float64\n",
       "Grade           object\n",
       "PG              object\n",
       "dtype: object"
      ]
     },
     "execution_count": 6,
     "metadata": {},
     "output_type": "execute_result"
    }
   ],
   "source": [
    "df.dtypes"
   ]
  },
  {
   "cell_type": "code",
   "execution_count": 7,
   "id": "f512981d-8147-4af5-839a-20131d5c1a3d",
   "metadata": {},
   "outputs": [],
   "source": [
    "for column in df.columns:\n",
    "    if df[column].dtype == 'object':\n",
    "        df[column].fillna(df[column].mode()[0], inplace=True)\n",
    "    else:\n",
    "        df[column].fillna(df[column].mean(), inplace=True)"
   ]
  },
  {
   "cell_type": "code",
   "execution_count": 8,
   "id": "293ebac8-41a4-46c7-af0f-50032d9f439f",
   "metadata": {},
   "outputs": [
    {
     "data": {
      "text/plain": [
       "Roll No        0\n",
       "NationalITy    0\n",
       "WT             0\n",
       "DSBDA          0\n",
       "AI             0\n",
       "Average        0\n",
       "Grade          0\n",
       "PG             0\n",
       "dtype: int64"
      ]
     },
     "execution_count": 8,
     "metadata": {},
     "output_type": "execute_result"
    }
   ],
   "source": [
    "df.isnull().sum()"
   ]
  },
  {
   "cell_type": "markdown",
   "id": "8e6007dd-b0e5-49c4-80f5-77bd26b289d1",
   "metadata": {},
   "source": [
    "## Scan all numeric variables for outliers. If there are outliers,any of the suitable techniques to deal with them.(using z score)"
   ]
  },
  {
   "cell_type": "code",
   "execution_count": 9,
   "id": "c8d351e0-31aa-48fc-b3db-697f0ccf94f8",
   "metadata": {},
   "outputs": [
    {
     "data": {
      "image/png": "[encoded data removed]",
      "text/plain": [
       "<Figure size 640x480 with 1 Axes>"
      ]
     },
     "metadata": {},
     "output_type": "display_data"
    }
   ],
   "source": [
    "\n",
    "numeric_columns = df.select_dtypes(include=['int64', 'float64']).columns\n",
    "\n",
    "# Draw box plot before removing outliers\n",
    "\n",
    "plt.boxplot(df[numeric_columns])\n",
    "\n",
    "\n",
    "plt.show()"
   ]
  },
  {
   "cell_type": "code",
   "execution_count": 10,
   "id": "d9dcaef2-23c1-44ed-b7f0-c37b99477b76",
   "metadata": {},
   "outputs": [
    {
     "data": {
      "text/plain": [
       "Index([6, 17, 34, 59, 76, 91], dtype='int64')"
      ]
     },
     "execution_count": 10,
     "metadata": {},
     "output_type": "execute_result"
    }
   ],
   "source": [
    "z_scores = np.abs((df[numeric_columns] - df[numeric_columns].mean()) / df[numeric_columns].std())\n",
    "outliers = df[(z_scores > 2).any(axis=1)]\n",
    "df = df.drop(outliers.index)\n",
    "outliers.index"
   ]
  },
  {
   "cell_type": "code",
   "execution_count": 11,
   "id": "9c12c59b-9a0b-47fa-b6fb-18d5b0cb974c",
   "metadata": {},
   "outputs": [
    {
     "data": {
      "text/html": [
       "<div>\n",
       "<style scoped>\n",
       "    .dataframe tbody tr th:only-of-type {\n",
       "        vertical-align: middle;\n",
       "    }\n",
       "\n",
       "    .dataframe tbody tr th {\n",
       "        vertical-align: top;\n",
       "    }\n",
       "\n",
       "    .dataframe thead th {\n",
       "        text-align: right;\n",
       "    }\n",
       "</style>\n",
       "<table border=\"1\" class=\"dataframe\">\n",
       "  <thead>\n",
       "    <tr style=\"text-align: right;\">\n",
       "      <th></th>\n",
       "      <th>Roll No</th>\n",
       "      <th>NationalITy</th>\n",
       "      <th>WT</th>\n",
       "      <th>DSBDA</th>\n",
       "      <th>AI</th>\n",
       "      <th>Average</th>\n",
       "      <th>Grade</th>\n",
       "      <th>PG</th>\n",
       "    </tr>\n",
       "  </thead>\n",
       "  <tbody>\n",
       "    <tr>\n",
       "      <th>0</th>\n",
       "      <td>1.000000</td>\n",
       "      <td>India</td>\n",
       "      <td>72.000000</td>\n",
       "      <td>72.000000</td>\n",
       "      <td>74.000000</td>\n",
       "      <td>72.666667</td>\n",
       "      <td>C</td>\n",
       "      <td>Yes</td>\n",
       "    </tr>\n",
       "    <tr>\n",
       "      <th>1</th>\n",
       "      <td>2.000000</td>\n",
       "      <td>Japan</td>\n",
       "      <td>69.000000</td>\n",
       "      <td>90.000000</td>\n",
       "      <td>62.235955</td>\n",
       "      <td>53.000000</td>\n",
       "      <td>B</td>\n",
       "      <td>No</td>\n",
       "    </tr>\n",
       "    <tr>\n",
       "      <th>2</th>\n",
       "      <td>50.479592</td>\n",
       "      <td>USA</td>\n",
       "      <td>61.164835</td>\n",
       "      <td>64.652632</td>\n",
       "      <td>62.235955</td>\n",
       "      <td>58.663265</td>\n",
       "      <td>D</td>\n",
       "      <td>No</td>\n",
       "    </tr>\n",
       "    <tr>\n",
       "      <th>3</th>\n",
       "      <td>4.000000</td>\n",
       "      <td>China</td>\n",
       "      <td>47.000000</td>\n",
       "      <td>64.652632</td>\n",
       "      <td>44.000000</td>\n",
       "      <td>30.333333</td>\n",
       "      <td>D</td>\n",
       "      <td>Yes</td>\n",
       "    </tr>\n",
       "    <tr>\n",
       "      <th>4</th>\n",
       "      <td>5.000000</td>\n",
       "      <td>India</td>\n",
       "      <td>76.000000</td>\n",
       "      <td>78.000000</td>\n",
       "      <td>62.235955</td>\n",
       "      <td>51.333333</td>\n",
       "      <td>C</td>\n",
       "      <td>No</td>\n",
       "    </tr>\n",
       "    <tr>\n",
       "      <th>...</th>\n",
       "      <td>...</td>\n",
       "      <td>...</td>\n",
       "      <td>...</td>\n",
       "      <td>...</td>\n",
       "      <td>...</td>\n",
       "      <td>...</td>\n",
       "      <td>...</td>\n",
       "      <td>...</td>\n",
       "    </tr>\n",
       "    <tr>\n",
       "      <th>94</th>\n",
       "      <td>95.000000</td>\n",
       "      <td>USA</td>\n",
       "      <td>79.000000</td>\n",
       "      <td>64.652632</td>\n",
       "      <td>62.235955</td>\n",
       "      <td>26.333333</td>\n",
       "      <td>A</td>\n",
       "      <td>No</td>\n",
       "    </tr>\n",
       "    <tr>\n",
       "      <th>95</th>\n",
       "      <td>96.000000</td>\n",
       "      <td>Japan</td>\n",
       "      <td>78.000000</td>\n",
       "      <td>81.000000</td>\n",
       "      <td>82.000000</td>\n",
       "      <td>80.333333</td>\n",
       "      <td>A</td>\n",
       "      <td>No</td>\n",
       "    </tr>\n",
       "    <tr>\n",
       "      <th>96</th>\n",
       "      <td>97.000000</td>\n",
       "      <td>USA</td>\n",
       "      <td>65.000000</td>\n",
       "      <td>66.000000</td>\n",
       "      <td>62.000000</td>\n",
       "      <td>64.333333</td>\n",
       "      <td>B</td>\n",
       "      <td>No</td>\n",
       "    </tr>\n",
       "    <tr>\n",
       "      <th>97</th>\n",
       "      <td>98.000000</td>\n",
       "      <td>Rassia</td>\n",
       "      <td>63.000000</td>\n",
       "      <td>72.000000</td>\n",
       "      <td>70.000000</td>\n",
       "      <td>68.333333</td>\n",
       "      <td>B</td>\n",
       "      <td>Yes</td>\n",
       "    </tr>\n",
       "    <tr>\n",
       "      <th>98</th>\n",
       "      <td>99.000000</td>\n",
       "      <td>India</td>\n",
       "      <td>58.000000</td>\n",
       "      <td>67.000000</td>\n",
       "      <td>62.235955</td>\n",
       "      <td>41.666667</td>\n",
       "      <td>B</td>\n",
       "      <td>No</td>\n",
       "    </tr>\n",
       "  </tbody>\n",
       "</table>\n",
       "<p>93 rows × 8 columns</p>\n",
       "</div>"
      ],
      "text/plain": [
       "      Roll No NationalITy         WT      DSBDA         AI    Average Grade  \\\n",
       "0    1.000000       India  72.000000  72.000000  74.000000  72.666667     C   \n",
       "1    2.000000       Japan  69.000000  90.000000  62.235955  53.000000     B   \n",
       "2   50.479592         USA  61.164835  64.652632  62.235955  58.663265     D   \n",
       "3    4.000000       China  47.000000  64.652632  44.000000  30.333333     D   \n",
       "4    5.000000       India  76.000000  78.000000  62.235955  51.333333     C   \n",
       "..        ...         ...        ...        ...        ...        ...   ...   \n",
       "94  95.000000         USA  79.000000  64.652632  62.235955  26.333333     A   \n",
       "95  96.000000       Japan  78.000000  81.000000  82.000000  80.333333     A   \n",
       "96  97.000000         USA  65.000000  66.000000  62.000000  64.333333     B   \n",
       "97  98.000000      Rassia  63.000000  72.000000  70.000000  68.333333     B   \n",
       "98  99.000000       India  58.000000  67.000000  62.235955  41.666667     B   \n",
       "\n",
       "     PG  \n",
       "0   Yes  \n",
       "1    No  \n",
       "2    No  \n",
       "3   Yes  \n",
       "4    No  \n",
       "..  ...  \n",
       "94   No  \n",
       "95   No  \n",
       "96   No  \n",
       "97  Yes  \n",
       "98   No  \n",
       "\n",
       "[93 rows x 8 columns]"
      ]
     },
     "execution_count": 11,
     "metadata": {},
     "output_type": "execute_result"
    }
   ],
   "source": [
    "df"
   ]
  },
  {
   "cell_type": "markdown",
   "id": "3a8df03a-3f2b-4e99-b472-76fde6ec6326",
   "metadata": {},
   "source": [
    "## Display and Remove the outliers"
   ]
  },
  {
   "cell_type": "code",
   "execution_count": 12,
   "id": "fee606d7-5f7c-4744-8b1b-065f0f575fab",
   "metadata": {},
   "outputs": [
    {
     "data": {
      "image/png": "[encoded data removed]",
      "text/plain": [
       "<Figure size 640x480 with 1 Axes>"
      ]
     },
     "metadata": {},
     "output_type": "display_data"
    }
   ],
   "source": [
    "# Draw box plot after removing outliers\n",
    "\n",
    "plt.boxplot(df[numeric_columns])\n",
    "\n",
    "\n",
    "plt.show()"
   ]
  },
  {
   "cell_type": "markdown",
   "id": "ec61dbae-a929-4688-8c6b-54f19ca0ad15",
   "metadata": {},
   "source": [
    "## Apply data transformations on at least one of the variables Create bins and Labels."
   ]
  },
  {
   "cell_type": "code",
   "execution_count": 13,
   "id": "9dbd3928-3de1-4c1d-8a48-caccf450b971",
   "metadata": {},
   "outputs": [],
   "source": [
    "bins = [0, 40, 60, 80, 100]\n",
    "labels = ['Low', 'Average', 'Good', 'Excellent']\n",
    "df['Averages'] = pd.cut(df['WT'], bins=bins, labels=labels)"
   ]
  },
  {
   "cell_type": "code",
   "execution_count": 14,
   "id": "30d2cc37-8125-4219-972a-5b3ed0b45475",
   "metadata": {},
   "outputs": [
    {
     "data": {
      "text/html": [
       "<div>\n",
       "<style scoped>\n",
       "    .dataframe tbody tr th:only-of-type {\n",
       "        vertical-align: middle;\n",
       "    }\n",
       "\n",
       "    .dataframe tbody tr th {\n",
       "        vertical-align: top;\n",
       "    }\n",
       "\n",
       "    .dataframe thead th {\n",
       "        text-align: right;\n",
       "    }\n",
       "</style>\n",
       "<table border=\"1\" class=\"dataframe\">\n",
       "  <thead>\n",
       "    <tr style=\"text-align: right;\">\n",
       "      <th></th>\n",
       "      <th>Roll No</th>\n",
       "      <th>NationalITy</th>\n",
       "      <th>WT</th>\n",
       "      <th>DSBDA</th>\n",
       "      <th>AI</th>\n",
       "      <th>Average</th>\n",
       "      <th>Grade</th>\n",
       "      <th>PG</th>\n",
       "      <th>Averages</th>\n",
       "    </tr>\n",
       "  </thead>\n",
       "  <tbody>\n",
       "    <tr>\n",
       "      <th>0</th>\n",
       "      <td>1.000000</td>\n",
       "      <td>India</td>\n",
       "      <td>72.000000</td>\n",
       "      <td>72.000000</td>\n",
       "      <td>74.000000</td>\n",
       "      <td>72.666667</td>\n",
       "      <td>C</td>\n",
       "      <td>Yes</td>\n",
       "      <td>Good</td>\n",
       "    </tr>\n",
       "    <tr>\n",
       "      <th>1</th>\n",
       "      <td>2.000000</td>\n",
       "      <td>Japan</td>\n",
       "      <td>69.000000</td>\n",
       "      <td>90.000000</td>\n",
       "      <td>62.235955</td>\n",
       "      <td>53.000000</td>\n",
       "      <td>B</td>\n",
       "      <td>No</td>\n",
       "      <td>Good</td>\n",
       "    </tr>\n",
       "    <tr>\n",
       "      <th>2</th>\n",
       "      <td>50.479592</td>\n",
       "      <td>USA</td>\n",
       "      <td>61.164835</td>\n",
       "      <td>64.652632</td>\n",
       "      <td>62.235955</td>\n",
       "      <td>58.663265</td>\n",
       "      <td>D</td>\n",
       "      <td>No</td>\n",
       "      <td>Good</td>\n",
       "    </tr>\n",
       "    <tr>\n",
       "      <th>3</th>\n",
       "      <td>4.000000</td>\n",
       "      <td>China</td>\n",
       "      <td>47.000000</td>\n",
       "      <td>64.652632</td>\n",
       "      <td>44.000000</td>\n",
       "      <td>30.333333</td>\n",
       "      <td>D</td>\n",
       "      <td>Yes</td>\n",
       "      <td>Average</td>\n",
       "    </tr>\n",
       "    <tr>\n",
       "      <th>4</th>\n",
       "      <td>5.000000</td>\n",
       "      <td>India</td>\n",
       "      <td>76.000000</td>\n",
       "      <td>78.000000</td>\n",
       "      <td>62.235955</td>\n",
       "      <td>51.333333</td>\n",
       "      <td>C</td>\n",
       "      <td>No</td>\n",
       "      <td>Good</td>\n",
       "    </tr>\n",
       "    <tr>\n",
       "      <th>...</th>\n",
       "      <td>...</td>\n",
       "      <td>...</td>\n",
       "      <td>...</td>\n",
       "      <td>...</td>\n",
       "      <td>...</td>\n",
       "      <td>...</td>\n",
       "      <td>...</td>\n",
       "      <td>...</td>\n",
       "      <td>...</td>\n",
       "    </tr>\n",
       "    <tr>\n",
       "      <th>94</th>\n",
       "      <td>95.000000</td>\n",
       "      <td>USA</td>\n",
       "      <td>79.000000</td>\n",
       "      <td>64.652632</td>\n",
       "      <td>62.235955</td>\n",
       "      <td>26.333333</td>\n",
       "      <td>A</td>\n",
       "      <td>No</td>\n",
       "      <td>Good</td>\n",
       "    </tr>\n",
       "    <tr>\n",
       "      <th>95</th>\n",
       "      <td>96.000000</td>\n",
       "      <td>Japan</td>\n",
       "      <td>78.000000</td>\n",
       "      <td>81.000000</td>\n",
       "      <td>82.000000</td>\n",
       "      <td>80.333333</td>\n",
       "      <td>A</td>\n",
       "      <td>No</td>\n",
       "      <td>Good</td>\n",
       "    </tr>\n",
       "    <tr>\n",
       "      <th>96</th>\n",
       "      <td>97.000000</td>\n",
       "      <td>USA</td>\n",
       "      <td>65.000000</td>\n",
       "      <td>66.000000</td>\n",
       "      <td>62.000000</td>\n",
       "      <td>64.333333</td>\n",
       "      <td>B</td>\n",
       "      <td>No</td>\n",
       "      <td>Good</td>\n",
       "    </tr>\n",
       "    <tr>\n",
       "      <th>97</th>\n",
       "      <td>98.000000</td>\n",
       "      <td>Rassia</td>\n",
       "      <td>63.000000</td>\n",
       "      <td>72.000000</td>\n",
       "      <td>70.000000</td>\n",
       "      <td>68.333333</td>\n",
       "      <td>B</td>\n",
       "      <td>Yes</td>\n",
       "      <td>Good</td>\n",
       "    </tr>\n",
       "    <tr>\n",
       "      <th>98</th>\n",
       "      <td>99.000000</td>\n",
       "      <td>India</td>\n",
       "      <td>58.000000</td>\n",
       "      <td>67.000000</td>\n",
       "      <td>62.235955</td>\n",
       "      <td>41.666667</td>\n",
       "      <td>B</td>\n",
       "      <td>No</td>\n",
       "      <td>Average</td>\n",
       "    </tr>\n",
       "  </tbody>\n",
       "</table>\n",
       "<p>93 rows × 9 columns</p>\n",
       "</div>"
      ],
      "text/plain": [
       "      Roll No NationalITy         WT      DSBDA         AI    Average Grade  \\\n",
       "0    1.000000       India  72.000000  72.000000  74.000000  72.666667     C   \n",
       "1    2.000000       Japan  69.000000  90.000000  62.235955  53.000000     B   \n",
       "2   50.479592         USA  61.164835  64.652632  62.235955  58.663265     D   \n",
       "3    4.000000       China  47.000000  64.652632  44.000000  30.333333     D   \n",
       "4    5.000000       India  76.000000  78.000000  62.235955  51.333333     C   \n",
       "..        ...         ...        ...        ...        ...        ...   ...   \n",
       "94  95.000000         USA  79.000000  64.652632  62.235955  26.333333     A   \n",
       "95  96.000000       Japan  78.000000  81.000000  82.000000  80.333333     A   \n",
       "96  97.000000         USA  65.000000  66.000000  62.000000  64.333333     B   \n",
       "97  98.000000      Rassia  63.000000  72.000000  70.000000  68.333333     B   \n",
       "98  99.000000       India  58.000000  67.000000  62.235955  41.666667     B   \n",
       "\n",
       "     PG Averages  \n",
       "0   Yes     Good  \n",
       "1    No     Good  \n",
       "2    No     Good  \n",
       "3   Yes  Average  \n",
       "4    No     Good  \n",
       "..  ...      ...  \n",
       "94   No     Good  \n",
       "95   No     Good  \n",
       "96   No     Good  \n",
       "97  Yes     Good  \n",
       "98   No  Average  \n",
       "\n",
       "[93 rows x 9 columns]"
      ]
     },
     "execution_count": 14,
     "metadata": {},
     "output_type": "execute_result"
    }
   ],
   "source": [
    "df"
   ]
  },
  {
   "cell_type": "code",
   "execution_count": null,
   "id": "d3bf3bfc-b279-4721-91b0-4f7bac71d981",
   "metadata": {},
   "outputs": [],
   "source": []
  },
  {
   "cell_type": "markdown",
   "id": "d0b5dcd9-a7a0-4027-aa29-7d50579d06d5",
   "metadata": {},
   "source": [
    "## Scan all numeric variables for outliers. If there are outliers,any of the suitable \n",
    "techniques to deal with them.(using IQR)"
   ]
  },
  {
   "cell_type": "code",
   "execution_count": 15,
   "id": "95dc15f3-f733-4ded-ad9c-ad2bcc38e524",
   "metadata": {},
   "outputs": [
    {
     "data": {
      "image/png": "[encoded data removed]",
      "text/plain": [
       "<Figure size 640x480 with 1 Axes>"
      ]
     },
     "metadata": {},
     "output_type": "display_data"
    }
   ],
   "source": [
    "numeric_columns = df.select_dtypes(include=['int64', 'float64']).columns\n",
    "\n",
    "plt.boxplot(df[numeric_columns])\n",
    "plt.show()"
   ]
  },
  {
   "cell_type": "code",
   "execution_count": 16,
   "id": "23d395ab-1840-44a8-9240-a4c311322e42",
   "metadata": {},
   "outputs": [
    {
     "name": "stdout",
     "output_type": "stream",
     "text": [
      "Outliers detected using IQR method:\n"
     ]
    },
    {
     "data": {
      "text/plain": [
       "Index([ 0,  1,  2,  3,  4,  5,  7,  8,  9, 10, 11, 12, 13, 14, 15, 16, 18, 19,\n",
       "       20, 21, 22, 23, 24, 25, 26, 27, 28, 29, 30, 31, 32, 33, 35, 36, 37, 38,\n",
       "       39, 40, 41, 42, 43, 44, 45, 46, 47, 48, 49, 50, 51, 52, 53, 54, 55, 56,\n",
       "       57, 58, 60, 61, 62, 63, 64, 65, 66, 67, 68, 69, 70, 71, 72, 73, 74, 75,\n",
       "       77, 78, 79, 80, 81, 82, 83, 84, 85, 86, 87, 88, 89, 90, 92, 93, 94, 95,\n",
       "       96, 97, 98],\n",
       "      dtype='int64')"
      ]
     },
     "execution_count": 16,
     "metadata": {},
     "output_type": "execute_result"
    }
   ],
   "source": [
    "# Filter numeric columns\n",
    "numeric_columns = df.select_dtypes(include=['int64', 'float64']).columns\n",
    "\n",
    "# Calculate quartiles and IQR\n",
    "q1 = df[numeric_columns].quantile(0.25)\n",
    "q3 = df[numeric_columns].quantile(0.75)\n",
    "iqr = q3 - q1\n",
    "\n",
    "# Define outlier bounds\n",
    "lower_bound = q1 - 1.5 * iqr\n",
    "upper_bound = q3 +  1.5* iqr\n",
    "\n",
    "# Detect outliers using IQR method\n",
    "outliers = df[(df[numeric_columns] < lower_bound) | (df[numeric_columns] > upper_bound)]\n",
    "\n",
    "# Print the outliers\n",
    "print(\"Outliers detected using IQR method:\")\n",
    "df_cleaned = df.drop(outliers.index)\n",
    "outliers.index\n"
   ]
  },
  {
   "cell_type": "code",
   "execution_count": 22,
   "id": "5bd0f356-0c0f-4177-bbe5-d74ddd1921e3",
   "metadata": {},
   "outputs": [
    {
     "data": {
      "text/html": [
       "<div>\n",
       "<style scoped>\n",
       "    .dataframe tbody tr th:only-of-type {\n",
       "        vertical-align: middle;\n",
       "    }\n",
       "\n",
       "    .dataframe tbody tr th {\n",
       "        vertical-align: top;\n",
       "    }\n",
       "\n",
       "    .dataframe thead th {\n",
       "        text-align: right;\n",
       "    }\n",
       "</style>\n",
       "<table border=\"1\" class=\"dataframe\">\n",
       "  <thead>\n",
       "    <tr style=\"text-align: right;\">\n",
       "      <th></th>\n",
       "      <th>Roll No</th>\n",
       "      <th>NationalITy</th>\n",
       "      <th>WT</th>\n",
       "      <th>DSBDA</th>\n",
       "      <th>AI</th>\n",
       "      <th>Average</th>\n",
       "      <th>Grade</th>\n",
       "      <th>PG</th>\n",
       "      <th>Averages</th>\n",
       "    </tr>\n",
       "  </thead>\n",
       "  <tbody>\n",
       "  </tbody>\n",
       "</table>\n",
       "</div>"
      ],
      "text/plain": [
       "Empty DataFrame\n",
       "Columns: [Roll No, NationalITy, WT, DSBDA, AI, Average, Grade, PG, Averages]\n",
       "Index: []"
      ]
     },
     "execution_count": 22,
     "metadata": {},
     "output_type": "execute_result"
    }
   ],
   "source": [
    "df_cleaned"
   ]
  },
  {
   "cell_type": "code",
   "execution_count": 17,
   "id": "b70bce29-8ec5-4a6e-90ae-d8c22d83a8a9",
   "metadata": {},
   "outputs": [
    {
     "data": {
      "image/png": "[encoded data removed]",
      "text/plain": [
       "<Figure size 640x480 with 1 Axes>"
      ]
     },
     "metadata": {},
     "output_type": "display_data"
    }
   ],
   "source": [
    "\n",
    "plt.boxplot(df[numeric_columns])\n",
    "plt.show()"
   ]
  },
  {
   "cell_type": "code",
   "execution_count": 18,
   "id": "4ed4b14e-ab3d-4f2a-984d-72844e75326e",
   "metadata": {},
   "outputs": [
    {
     "data": {
      "text/plain": [
       "Roll No    27.000000\n",
       "WT         53.000000\n",
       "DSBDA      56.000000\n",
       "AI         55.000000\n",
       "Average    46.333333\n",
       "Name: 0.25, dtype: float64"
      ]
     },
     "execution_count": 18,
     "metadata": {},
     "output_type": "execute_result"
    }
   ],
   "source": [
    "q1\n"
   ]
  },
  {
   "cell_type": "code",
   "execution_count": 19,
   "id": "0ac99bec-0f18-4127-a816-846a663eded2",
   "metadata": {},
   "outputs": [
    {
     "data": {
      "text/plain": [
       "Roll No    74.000000\n",
       "WT         71.000000\n",
       "DSBDA      74.000000\n",
       "AI         74.000000\n",
       "Average    71.666667\n",
       "Name: 0.75, dtype: float64"
      ]
     },
     "execution_count": 19,
     "metadata": {},
     "output_type": "execute_result"
    }
   ],
   "source": [
    "q3"
   ]
  },
  {
   "cell_type": "code",
   "execution_count": 20,
   "id": "f10b95e5-ed01-4ab7-bc4c-c78642a62a1d",
   "metadata": {},
   "outputs": [
    {
     "data": {
      "text/plain": [
       "Roll No    47.000000\n",
       "WT         18.000000\n",
       "DSBDA      18.000000\n",
       "AI         19.000000\n",
       "Average    25.333333\n",
       "dtype: float64"
      ]
     },
     "execution_count": 20,
     "metadata": {},
     "output_type": "execute_result"
    }
   ],
   "source": [
    "iqr"
   ]
  },
  {
   "cell_type": "code",
   "execution_count": null,
   "id": "d05032fd-c427-41f8-9546-606216f30994",
   "metadata": {},
   "outputs": [],
   "source": []
  },
  {
   "cell_type": "code",
   "execution_count": 21,
   "id": "83a731d5-471c-463f-8b52-93c8509fc970",
   "metadata": {},
   "outputs": [
    {
     "name": "stdout",
     "output_type": "stream",
     "text": [
      "Aggregated Data:\n",
      "       WT    Average\n",
      "max  88.0  84.333333\n",
      "min  33.0  26.000000\n"
     ]
    },
    {
     "data": {
      "image/png": "[encoded data removed]",
      "text/plain": [
       "<Figure size 800x600 with 1 Axes>"
      ]
     },
     "metadata": {},
     "output_type": "display_data"
    }
   ],
   "source": [
    "agg =df.agg({'WT':['max','min'],\n",
    "            'Average':['max','min']})\n",
    "\n",
    "# Print aggregated data\n",
    "print(\"Aggregated Data:\")\n",
    "print(agg)\n",
    "\n",
    "# Draw scatter plot\n",
    "plt.figure(figsize=(8, 6))\n",
    "plt.scatter(df['WT'], df['Average'])\n",
    "plt.title('Scatter Plot of WT vs Average')\n",
    "plt.xlabel('WT')\n",
    "plt.ylabel('Average')\n",
    "plt.grid(True)\n",
    "plt.show()"
   ]
  },
  {
   "cell_type": "code",
   "execution_count": null,
   "id": "3c6654fa-5818-408b-bd42-b91350e90620",
   "metadata": {},
   "outputs": [],
   "source": []
  }
 ],
 "metadata": {
  "kernelspec": {
   "display_name": "Python 3 (ipykernel)",
   "language": "python",
   "name": "python3"
  },
  "language_info": {
   "codemirror_mode": {
    "name": "ipython",
    "version": 3
   },
   "file_extension": ".py",
   "mimetype": "text/x-python",
   "name": "python",
   "nbconvert_exporter": "python",
   "pygments_lexer": "ipython3",
   "version": "3.11.7"
  }
 },
 "nbformat": 4,
 "nbformat_minor": 5
}
