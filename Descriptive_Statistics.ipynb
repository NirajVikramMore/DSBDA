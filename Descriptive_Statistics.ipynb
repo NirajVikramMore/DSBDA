{
 "cells": [
  {
   "cell_type": "markdown",
   "id": "c2541f2a-39fc-4535-b9fb-3ee6b4905b2a",
   "metadata": {},
   "source": [
    "# Descriptive Statistics –\n",
    "Measures of Central Tendency and variability Perform the following operations on any\n",
    "open source dataset (e.g., employee_2.csv/data.csv) \n",
    "\n",
    "1.Provide summary statistics\n",
    "(mean, median, minimum) for a dataset (age, salary etc.) with numeric variables\n",
    "\n",
    "\n",
    "2.Grouped by one of the qualitative (categorical) variable. For example, if your\n",
    "categorical variable is age groups and quantitative variable is income, then provide\n",
    "summary statistics of income grouped by the age groups. Create a list that contains a\n",
    "numeric value for each response to the categorical variable. \n",
    "\n",
    "\n",
    "3. Perform grouping on and display JOB_ID and it&#39;s count\n",
    "\n",
    "\n",
    "4.Show data visualization for any column"
   ]
  },
  {
   "cell_type": "code",
   "execution_count": 1,
   "id": "cc6be6a9-8769-4756-9d51-f030cc963067",
   "metadata": {},
   "outputs": [],
   "source": [
    "import pandas as pd\n",
    "import numpy as np\n",
    "import matplotlib.pyplot as plt\n",
    "import seaborn as sns"
   ]
  },
  {
   "cell_type": "code",
   "execution_count": 2,
   "id": "d7a91759-1f04-4eb2-b1d3-ef3cb47ac680",
   "metadata": {},
   "outputs": [],
   "source": [
    "df = pd.read_csv(r\"C:\\Users\\Niraj More\\OneDrive\\Desktop\\DSBDA\\Practice\\PR_EXAM_DATASET\\Employee_2.csv\")"
   ]
  },
  {
   "cell_type": "code",
   "execution_count": 3,
   "id": "6dbeef8e-d66e-4f9a-8634-9041caadbe14",
   "metadata": {},
   "outputs": [
    {
     "data": {
      "text/html": [
       "<div>\n",
       "<style scoped>\n",
       "    .dataframe tbody tr th:only-of-type {\n",
       "        vertical-align: middle;\n",
       "    }\n",
       "\n",
       "    .dataframe tbody tr th {\n",
       "        vertical-align: top;\n",
       "    }\n",
       "\n",
       "    .dataframe thead th {\n",
       "        text-align: right;\n",
       "    }\n",
       "</style>\n",
       "<table border=\"1\" class=\"dataframe\">\n",
       "  <thead>\n",
       "    <tr style=\"text-align: right;\">\n",
       "      <th></th>\n",
       "      <th>Education</th>\n",
       "      <th>JoiningYear</th>\n",
       "      <th>City</th>\n",
       "      <th>PaymentTier</th>\n",
       "      <th>Age</th>\n",
       "      <th>Gender</th>\n",
       "      <th>EverBenched</th>\n",
       "      <th>ExperienceInCurrentDomain</th>\n",
       "      <th>LeaveOrNot</th>\n",
       "      <th>Salary</th>\n",
       "    </tr>\n",
       "  </thead>\n",
       "  <tbody>\n",
       "    <tr>\n",
       "      <th>0</th>\n",
       "      <td>Bachelors</td>\n",
       "      <td>2017</td>\n",
       "      <td>Bangalore</td>\n",
       "      <td>3</td>\n",
       "      <td>34</td>\n",
       "      <td>Male</td>\n",
       "      <td>No</td>\n",
       "      <td>0</td>\n",
       "      <td>0</td>\n",
       "      <td>171369.0</td>\n",
       "    </tr>\n",
       "    <tr>\n",
       "      <th>1</th>\n",
       "      <td>Bachelors</td>\n",
       "      <td>2013</td>\n",
       "      <td>Pune</td>\n",
       "      <td>1</td>\n",
       "      <td>28</td>\n",
       "      <td>Female</td>\n",
       "      <td>No</td>\n",
       "      <td>3</td>\n",
       "      <td>1</td>\n",
       "      <td>136993.0</td>\n",
       "    </tr>\n",
       "    <tr>\n",
       "      <th>2</th>\n",
       "      <td>Bachelors</td>\n",
       "      <td>2014</td>\n",
       "      <td>New Delhi</td>\n",
       "      <td>3</td>\n",
       "      <td>38</td>\n",
       "      <td>Female</td>\n",
       "      <td>No</td>\n",
       "      <td>2</td>\n",
       "      <td>0</td>\n",
       "      <td>113807.0</td>\n",
       "    </tr>\n",
       "    <tr>\n",
       "      <th>3</th>\n",
       "      <td>Masters</td>\n",
       "      <td>2016</td>\n",
       "      <td>Bangalore</td>\n",
       "      <td>3</td>\n",
       "      <td>27</td>\n",
       "      <td>Male</td>\n",
       "      <td>No</td>\n",
       "      <td>5</td>\n",
       "      <td>1</td>\n",
       "      <td>166478.0</td>\n",
       "    </tr>\n",
       "    <tr>\n",
       "      <th>4</th>\n",
       "      <td>Masters</td>\n",
       "      <td>2017</td>\n",
       "      <td>NaN</td>\n",
       "      <td>3</td>\n",
       "      <td>24</td>\n",
       "      <td>Male</td>\n",
       "      <td>Yes</td>\n",
       "      <td>2</td>\n",
       "      <td>1</td>\n",
       "      <td>393136.0</td>\n",
       "    </tr>\n",
       "    <tr>\n",
       "      <th>...</th>\n",
       "      <td>...</td>\n",
       "      <td>...</td>\n",
       "      <td>...</td>\n",
       "      <td>...</td>\n",
       "      <td>...</td>\n",
       "      <td>...</td>\n",
       "      <td>...</td>\n",
       "      <td>...</td>\n",
       "      <td>...</td>\n",
       "      <td>...</td>\n",
       "    </tr>\n",
       "    <tr>\n",
       "      <th>1802</th>\n",
       "      <td>Bachelors</td>\n",
       "      <td>2014</td>\n",
       "      <td>Bangalore</td>\n",
       "      <td>3</td>\n",
       "      <td>25</td>\n",
       "      <td>Female</td>\n",
       "      <td>No</td>\n",
       "      <td>3</td>\n",
       "      <td>0</td>\n",
       "      <td>257493.0</td>\n",
       "    </tr>\n",
       "    <tr>\n",
       "      <th>1803</th>\n",
       "      <td>Bachelors</td>\n",
       "      <td>2016</td>\n",
       "      <td>Bangalore</td>\n",
       "      <td>3</td>\n",
       "      <td>26</td>\n",
       "      <td>Female</td>\n",
       "      <td>No</td>\n",
       "      <td>4</td>\n",
       "      <td>0</td>\n",
       "      <td>208095.0</td>\n",
       "    </tr>\n",
       "    <tr>\n",
       "      <th>1804</th>\n",
       "      <td>Bachelors</td>\n",
       "      <td>2016</td>\n",
       "      <td>Bangalore</td>\n",
       "      <td>3</td>\n",
       "      <td>26</td>\n",
       "      <td>Female</td>\n",
       "      <td>No</td>\n",
       "      <td>4</td>\n",
       "      <td>0</td>\n",
       "      <td>97346.0</td>\n",
       "    </tr>\n",
       "    <tr>\n",
       "      <th>1805</th>\n",
       "      <td>Bachelors</td>\n",
       "      <td>2014</td>\n",
       "      <td>New Delhi</td>\n",
       "      <td>3</td>\n",
       "      <td>26</td>\n",
       "      <td>Male</td>\n",
       "      <td>No</td>\n",
       "      <td>4</td>\n",
       "      <td>0</td>\n",
       "      <td>360181.0</td>\n",
       "    </tr>\n",
       "    <tr>\n",
       "      <th>1806</th>\n",
       "      <td>Bachelors</td>\n",
       "      <td>2014</td>\n",
       "      <td>Bangalore</td>\n",
       "      <td>3</td>\n",
       "      <td>28</td>\n",
       "      <td>Male</td>\n",
       "      <td>No</td>\n",
       "      <td>3</td>\n",
       "      <td>0</td>\n",
       "      <td>253430.0</td>\n",
       "    </tr>\n",
       "  </tbody>\n",
       "</table>\n",
       "<p>1807 rows × 10 columns</p>\n",
       "</div>"
      ],
      "text/plain": [
       "      Education  JoiningYear       City  PaymentTier  Age  Gender EverBenched  \\\n",
       "0     Bachelors         2017  Bangalore            3   34    Male          No   \n",
       "1     Bachelors         2013       Pune            1   28  Female          No   \n",
       "2     Bachelors         2014  New Delhi            3   38  Female          No   \n",
       "3       Masters         2016  Bangalore            3   27    Male          No   \n",
       "4       Masters         2017        NaN            3   24    Male         Yes   \n",
       "...         ...          ...        ...          ...  ...     ...         ...   \n",
       "1802  Bachelors         2014  Bangalore            3   25  Female          No   \n",
       "1803  Bachelors         2016  Bangalore            3   26  Female          No   \n",
       "1804  Bachelors         2016  Bangalore            3   26  Female          No   \n",
       "1805  Bachelors         2014  New Delhi            3   26    Male          No   \n",
       "1806  Bachelors         2014  Bangalore            3   28    Male          No   \n",
       "\n",
       "      ExperienceInCurrentDomain  LeaveOrNot    Salary  \n",
       "0                             0           0  171369.0  \n",
       "1                             3           1  136993.0  \n",
       "2                             2           0  113807.0  \n",
       "3                             5           1  166478.0  \n",
       "4                             2           1  393136.0  \n",
       "...                         ...         ...       ...  \n",
       "1802                          3           0  257493.0  \n",
       "1803                          4           0  208095.0  \n",
       "1804                          4           0   97346.0  \n",
       "1805                          4           0  360181.0  \n",
       "1806                          3           0  253430.0  \n",
       "\n",
       "[1807 rows x 10 columns]"
      ]
     },
     "execution_count": 3,
     "metadata": {},
     "output_type": "execute_result"
    }
   ],
   "source": [
    "df"
   ]
  },
  {
   "cell_type": "markdown",
   "id": "5b079210-d03c-43a3-ac53-69a8775811bf",
   "metadata": {},
   "source": [
    "## Provide summary statistics (mean, median, minimum) for a dataset (age, salary etc.) with numeric variables"
   ]
  },
  {
   "cell_type": "code",
   "execution_count": 4,
   "id": "2e70a3c0-1bec-48e5-be2b-662207ffc87f",
   "metadata": {},
   "outputs": [
    {
     "data": {
      "text/plain": [
       "Age           26.310459\n",
       "Salary    224240.323693\n",
       "dtype: float64"
      ]
     },
     "execution_count": 4,
     "metadata": {},
     "output_type": "execute_result"
    }
   ],
   "source": [
    "df[['Age','Salary']].mean()"
   ]
  },
  {
   "cell_type": "code",
   "execution_count": 5,
   "id": "35462001-3a1d-43cd-85cf-ef7426ed0864",
   "metadata": {},
   "outputs": [
    {
     "data": {
      "text/plain": [
       "Age           26.0\n",
       "Salary    226605.5\n",
       "dtype: float64"
      ]
     },
     "execution_count": 5,
     "metadata": {},
     "output_type": "execute_result"
    }
   ],
   "source": [
    "df[['Age','Salary']].median()"
   ]
  },
  {
   "cell_type": "code",
   "execution_count": 6,
   "id": "885fee2c-d849-4a68-ac5e-8ca649faaa3b",
   "metadata": {},
   "outputs": [
    {
     "data": {
      "text/plain": [
       "Age           40.0\n",
       "Salary    399785.0\n",
       "dtype: float64"
      ]
     },
     "execution_count": 6,
     "metadata": {},
     "output_type": "execute_result"
    }
   ],
   "source": [
    "df[['Age','Salary']].max()"
   ]
  },
  {
   "cell_type": "code",
   "execution_count": 7,
   "id": "7f515c47-ac96-4dc6-b2f6-c01b65bde18b",
   "metadata": {},
   "outputs": [
    {
     "data": {
      "text/plain": [
       "Age            2.142854\n",
       "Salary    100823.365853\n",
       "dtype: float64"
      ]
     },
     "execution_count": 7,
     "metadata": {},
     "output_type": "execute_result"
    }
   ],
   "source": [
    "df[['Age','Salary']].std()"
   ]
  },
  {
   "cell_type": "code",
   "execution_count": 8,
   "id": "12e7e342-34e3-49d8-a82a-3cdb5e7441a2",
   "metadata": {},
   "outputs": [
    {
     "data": {
      "text/html": [
       "<div>\n",
       "<style scoped>\n",
       "    .dataframe tbody tr th:only-of-type {\n",
       "        vertical-align: middle;\n",
       "    }\n",
       "\n",
       "    .dataframe tbody tr th {\n",
       "        vertical-align: top;\n",
       "    }\n",
       "\n",
       "    .dataframe thead th {\n",
       "        text-align: right;\n",
       "    }\n",
       "</style>\n",
       "<table border=\"1\" class=\"dataframe\">\n",
       "  <thead>\n",
       "    <tr style=\"text-align: right;\">\n",
       "      <th></th>\n",
       "      <th>Age</th>\n",
       "      <th>Salary</th>\n",
       "    </tr>\n",
       "  </thead>\n",
       "  <tbody>\n",
       "    <tr>\n",
       "      <th>Age</th>\n",
       "      <td>4.591823</td>\n",
       "      <td>-4.897130e+03</td>\n",
       "    </tr>\n",
       "    <tr>\n",
       "      <th>Salary</th>\n",
       "      <td>-4897.130103</td>\n",
       "      <td>1.016535e+10</td>\n",
       "    </tr>\n",
       "  </tbody>\n",
       "</table>\n",
       "</div>"
      ],
      "text/plain": [
       "                Age        Salary\n",
       "Age        4.591823 -4.897130e+03\n",
       "Salary -4897.130103  1.016535e+10"
      ]
     },
     "execution_count": 8,
     "metadata": {},
     "output_type": "execute_result"
    }
   ],
   "source": [
    "df[['Age','Salary']].cov()"
   ]
  },
  {
   "cell_type": "code",
   "execution_count": 9,
   "id": "87a8292e-5d9d-42b2-86db-021947a9a20f",
   "metadata": {},
   "outputs": [
    {
     "data": {
      "text/html": [
       "<div>\n",
       "<style scoped>\n",
       "    .dataframe tbody tr th:only-of-type {\n",
       "        vertical-align: middle;\n",
       "    }\n",
       "\n",
       "    .dataframe tbody tr th {\n",
       "        vertical-align: top;\n",
       "    }\n",
       "\n",
       "    .dataframe thead th {\n",
       "        text-align: right;\n",
       "    }\n",
       "</style>\n",
       "<table border=\"1\" class=\"dataframe\">\n",
       "  <thead>\n",
       "    <tr style=\"text-align: right;\">\n",
       "      <th></th>\n",
       "      <th>City</th>\n",
       "      <th>JoiningYear</th>\n",
       "      <th>Education</th>\n",
       "    </tr>\n",
       "  </thead>\n",
       "  <tbody>\n",
       "    <tr>\n",
       "      <th>0</th>\n",
       "      <td>Bangalore</td>\n",
       "      <td>2017</td>\n",
       "      <td>Bachelors</td>\n",
       "    </tr>\n",
       "  </tbody>\n",
       "</table>\n",
       "</div>"
      ],
      "text/plain": [
       "        City  JoiningYear  Education\n",
       "0  Bangalore         2017  Bachelors"
      ]
     },
     "execution_count": 9,
     "metadata": {},
     "output_type": "execute_result"
    }
   ],
   "source": [
    "df[['City','JoiningYear','Education']].mode()"
   ]
  },
  {
   "cell_type": "markdown",
   "id": "b6f4ecfa-f425-4eee-862e-58b5cda8c994",
   "metadata": {},
   "source": [
    "## Grouped by one of the qualitative (categorical) variable. For example, if your categorical variable is age groups and quantitative variable is income, then provide summary statistics of income grouped by the age groups. Create a list that contains a numeric value for each response to the categorical variable. "
   ]
  },
  {
   "cell_type": "code",
   "execution_count": 10,
   "id": "ca1670d3-72e2-4ced-9c3e-dea4e2a8e3fc",
   "metadata": {},
   "outputs": [
    {
     "data": {
      "text/html": [
       "<div>\n",
       "<style scoped>\n",
       "    .dataframe tbody tr th:only-of-type {\n",
       "        vertical-align: middle;\n",
       "    }\n",
       "\n",
       "    .dataframe tbody tr th {\n",
       "        vertical-align: top;\n",
       "    }\n",
       "\n",
       "    .dataframe thead th {\n",
       "        text-align: right;\n",
       "    }\n",
       "</style>\n",
       "<table border=\"1\" class=\"dataframe\">\n",
       "  <thead>\n",
       "    <tr style=\"text-align: right;\">\n",
       "      <th></th>\n",
       "      <th>min</th>\n",
       "      <th>max</th>\n",
       "    </tr>\n",
       "    <tr>\n",
       "      <th>Age</th>\n",
       "      <th></th>\n",
       "      <th></th>\n",
       "    </tr>\n",
       "  </thead>\n",
       "  <tbody>\n",
       "    <tr>\n",
       "      <th>22</th>\n",
       "      <td>183393.0</td>\n",
       "      <td>354908.0</td>\n",
       "    </tr>\n",
       "    <tr>\n",
       "      <th>23</th>\n",
       "      <td>52173.0</td>\n",
       "      <td>397163.0</td>\n",
       "    </tr>\n",
       "    <tr>\n",
       "      <th>24</th>\n",
       "      <td>51042.0</td>\n",
       "      <td>394285.0</td>\n",
       "    </tr>\n",
       "    <tr>\n",
       "      <th>25</th>\n",
       "      <td>50135.0</td>\n",
       "      <td>399598.0</td>\n",
       "    </tr>\n",
       "    <tr>\n",
       "      <th>26</th>\n",
       "      <td>50214.0</td>\n",
       "      <td>399785.0</td>\n",
       "    </tr>\n",
       "    <tr>\n",
       "      <th>27</th>\n",
       "      <td>50680.0</td>\n",
       "      <td>397692.0</td>\n",
       "    </tr>\n",
       "    <tr>\n",
       "      <th>28</th>\n",
       "      <td>50595.0</td>\n",
       "      <td>396967.0</td>\n",
       "    </tr>\n",
       "    <tr>\n",
       "      <th>29</th>\n",
       "      <td>144971.0</td>\n",
       "      <td>375674.0</td>\n",
       "    </tr>\n",
       "    <tr>\n",
       "      <th>30</th>\n",
       "      <td>94671.0</td>\n",
       "      <td>359793.0</td>\n",
       "    </tr>\n",
       "    <tr>\n",
       "      <th>31</th>\n",
       "      <td>77681.0</td>\n",
       "      <td>389566.0</td>\n",
       "    </tr>\n",
       "    <tr>\n",
       "      <th>32</th>\n",
       "      <td>55866.0</td>\n",
       "      <td>324620.0</td>\n",
       "    </tr>\n",
       "    <tr>\n",
       "      <th>34</th>\n",
       "      <td>142250.0</td>\n",
       "      <td>375917.0</td>\n",
       "    </tr>\n",
       "    <tr>\n",
       "      <th>35</th>\n",
       "      <td>314413.0</td>\n",
       "      <td>314413.0</td>\n",
       "    </tr>\n",
       "    <tr>\n",
       "      <th>36</th>\n",
       "      <td>67213.0</td>\n",
       "      <td>397693.0</td>\n",
       "    </tr>\n",
       "    <tr>\n",
       "      <th>37</th>\n",
       "      <td>94519.0</td>\n",
       "      <td>357586.0</td>\n",
       "    </tr>\n",
       "    <tr>\n",
       "      <th>38</th>\n",
       "      <td>97829.0</td>\n",
       "      <td>364676.0</td>\n",
       "    </tr>\n",
       "    <tr>\n",
       "      <th>39</th>\n",
       "      <td>146639.0</td>\n",
       "      <td>347303.0</td>\n",
       "    </tr>\n",
       "    <tr>\n",
       "      <th>40</th>\n",
       "      <td>72962.0</td>\n",
       "      <td>187871.0</td>\n",
       "    </tr>\n",
       "  </tbody>\n",
       "</table>\n",
       "</div>"
      ],
      "text/plain": [
       "          min       max\n",
       "Age                    \n",
       "22   183393.0  354908.0\n",
       "23    52173.0  397163.0\n",
       "24    51042.0  394285.0\n",
       "25    50135.0  399598.0\n",
       "26    50214.0  399785.0\n",
       "27    50680.0  397692.0\n",
       "28    50595.0  396967.0\n",
       "29   144971.0  375674.0\n",
       "30    94671.0  359793.0\n",
       "31    77681.0  389566.0\n",
       "32    55866.0  324620.0\n",
       "34   142250.0  375917.0\n",
       "35   314413.0  314413.0\n",
       "36    67213.0  397693.0\n",
       "37    94519.0  357586.0\n",
       "38    97829.0  364676.0\n",
       "39   146639.0  347303.0\n",
       "40    72962.0  187871.0"
      ]
     },
     "execution_count": 10,
     "metadata": {},
     "output_type": "execute_result"
    }
   ],
   "source": [
    "summary_stats = df.groupby('Age')['Salary'].agg(['min','max'])\n",
    "summary_stats"
   ]
  },
  {
   "cell_type": "code",
   "execution_count": 11,
   "id": "a1e2c90e-4111-470d-9b84-65b13ca1f5e3",
   "metadata": {},
   "outputs": [
    {
     "data": {
      "text/html": [
       "<div>\n",
       "<style scoped>\n",
       "    .dataframe tbody tr th:only-of-type {\n",
       "        vertical-align: middle;\n",
       "    }\n",
       "\n",
       "    .dataframe tbody tr th {\n",
       "        vertical-align: top;\n",
       "    }\n",
       "\n",
       "    .dataframe thead tr th {\n",
       "        text-align: left;\n",
       "    }\n",
       "\n",
       "    .dataframe thead tr:last-of-type th {\n",
       "        text-align: right;\n",
       "    }\n",
       "</style>\n",
       "<table border=\"1\" class=\"dataframe\">\n",
       "  <thead>\n",
       "    <tr>\n",
       "      <th></th>\n",
       "      <th colspan=\"8\" halign=\"left\">JoiningYear</th>\n",
       "      <th colspan=\"2\" halign=\"left\">PaymentTier</th>\n",
       "      <th>...</th>\n",
       "      <th colspan=\"2\" halign=\"left\">LeaveOrNot</th>\n",
       "      <th colspan=\"8\" halign=\"left\">Salary</th>\n",
       "    </tr>\n",
       "    <tr>\n",
       "      <th></th>\n",
       "      <th>count</th>\n",
       "      <th>mean</th>\n",
       "      <th>std</th>\n",
       "      <th>min</th>\n",
       "      <th>25%</th>\n",
       "      <th>50%</th>\n",
       "      <th>75%</th>\n",
       "      <th>max</th>\n",
       "      <th>count</th>\n",
       "      <th>mean</th>\n",
       "      <th>...</th>\n",
       "      <th>75%</th>\n",
       "      <th>max</th>\n",
       "      <th>count</th>\n",
       "      <th>mean</th>\n",
       "      <th>std</th>\n",
       "      <th>min</th>\n",
       "      <th>25%</th>\n",
       "      <th>50%</th>\n",
       "      <th>75%</th>\n",
       "      <th>max</th>\n",
       "    </tr>\n",
       "    <tr>\n",
       "      <th>City</th>\n",
       "      <th></th>\n",
       "      <th></th>\n",
       "      <th></th>\n",
       "      <th></th>\n",
       "      <th></th>\n",
       "      <th></th>\n",
       "      <th></th>\n",
       "      <th></th>\n",
       "      <th></th>\n",
       "      <th></th>\n",
       "      <th></th>\n",
       "      <th></th>\n",
       "      <th></th>\n",
       "      <th></th>\n",
       "      <th></th>\n",
       "      <th></th>\n",
       "      <th></th>\n",
       "      <th></th>\n",
       "      <th></th>\n",
       "      <th></th>\n",
       "      <th></th>\n",
       "    </tr>\n",
       "  </thead>\n",
       "  <tbody>\n",
       "    <tr>\n",
       "      <th>Bangalore</th>\n",
       "      <td>840.0</td>\n",
       "      <td>2014.945238</td>\n",
       "      <td>1.895192</td>\n",
       "      <td>2012.0</td>\n",
       "      <td>2013.0</td>\n",
       "      <td>2015.0</td>\n",
       "      <td>2017.0</td>\n",
       "      <td>2018.0</td>\n",
       "      <td>840.0</td>\n",
       "      <td>2.869048</td>\n",
       "      <td>...</td>\n",
       "      <td>1.0</td>\n",
       "      <td>1.0</td>\n",
       "      <td>838.0</td>\n",
       "      <td>225573.584726</td>\n",
       "      <td>100563.706265</td>\n",
       "      <td>50214.0</td>\n",
       "      <td>139555.75</td>\n",
       "      <td>229244.5</td>\n",
       "      <td>309016.50</td>\n",
       "      <td>399612.0</td>\n",
       "    </tr>\n",
       "    <tr>\n",
       "      <th>New Delhi</th>\n",
       "      <td>456.0</td>\n",
       "      <td>2015.462719</td>\n",
       "      <td>1.864277</td>\n",
       "      <td>2012.0</td>\n",
       "      <td>2014.0</td>\n",
       "      <td>2016.0</td>\n",
       "      <td>2017.0</td>\n",
       "      <td>2018.0</td>\n",
       "      <td>456.0</td>\n",
       "      <td>2.611842</td>\n",
       "      <td>...</td>\n",
       "      <td>1.0</td>\n",
       "      <td>1.0</td>\n",
       "      <td>454.0</td>\n",
       "      <td>219559.735683</td>\n",
       "      <td>99842.943415</td>\n",
       "      <td>50135.0</td>\n",
       "      <td>137190.25</td>\n",
       "      <td>219054.0</td>\n",
       "      <td>304670.25</td>\n",
       "      <td>399785.0</td>\n",
       "    </tr>\n",
       "    <tr>\n",
       "      <th>Pune</th>\n",
       "      <td>497.0</td>\n",
       "      <td>2014.923541</td>\n",
       "      <td>1.726860</td>\n",
       "      <td>2012.0</td>\n",
       "      <td>2014.0</td>\n",
       "      <td>2015.0</td>\n",
       "      <td>2016.0</td>\n",
       "      <td>2018.0</td>\n",
       "      <td>497.0</td>\n",
       "      <td>2.480885</td>\n",
       "      <td>...</td>\n",
       "      <td>1.0</td>\n",
       "      <td>1.0</td>\n",
       "      <td>492.0</td>\n",
       "      <td>227156.258130</td>\n",
       "      <td>102316.717445</td>\n",
       "      <td>51044.0</td>\n",
       "      <td>141543.25</td>\n",
       "      <td>232099.5</td>\n",
       "      <td>312952.75</td>\n",
       "      <td>397693.0</td>\n",
       "    </tr>\n",
       "  </tbody>\n",
       "</table>\n",
       "<p>3 rows × 48 columns</p>\n",
       "</div>"
      ],
      "text/plain": [
       "          JoiningYear                                                         \\\n",
       "                count         mean       std     min     25%     50%     75%   \n",
       "City                                                                           \n",
       "Bangalore       840.0  2014.945238  1.895192  2012.0  2013.0  2015.0  2017.0   \n",
       "New Delhi       456.0  2015.462719  1.864277  2012.0  2014.0  2016.0  2017.0   \n",
       "Pune            497.0  2014.923541  1.726860  2012.0  2014.0  2015.0  2016.0   \n",
       "\n",
       "                  PaymentTier            ... LeaveOrNot      Salary  \\\n",
       "              max       count      mean  ...        75%  max  count   \n",
       "City                                     ...                          \n",
       "Bangalore  2018.0       840.0  2.869048  ...        1.0  1.0  838.0   \n",
       "New Delhi  2018.0       456.0  2.611842  ...        1.0  1.0  454.0   \n",
       "Pune       2018.0       497.0  2.480885  ...        1.0  1.0  492.0   \n",
       "\n",
       "                                                                       \\\n",
       "                    mean            std      min        25%       50%   \n",
       "City                                                                    \n",
       "Bangalore  225573.584726  100563.706265  50214.0  139555.75  229244.5   \n",
       "New Delhi  219559.735683   99842.943415  50135.0  137190.25  219054.0   \n",
       "Pune       227156.258130  102316.717445  51044.0  141543.25  232099.5   \n",
       "\n",
       "                                \n",
       "                 75%       max  \n",
       "City                            \n",
       "Bangalore  309016.50  399612.0  \n",
       "New Delhi  304670.25  399785.0  \n",
       "Pune       312952.75  397693.0  \n",
       "\n",
       "[3 rows x 48 columns]"
      ]
     },
     "execution_count": 11,
     "metadata": {},
     "output_type": "execute_result"
    }
   ],
   "source": [
    "df.groupby('City').describe()"
   ]
  },
  {
   "cell_type": "code",
   "execution_count": 21,
   "id": "dd895aea-b12a-4f7f-87f4-3185056fe0b7",
   "metadata": {},
   "outputs": [
    {
     "data": {
      "text/html": [
       "<div>\n",
       "<style scoped>\n",
       "    .dataframe tbody tr th:only-of-type {\n",
       "        vertical-align: middle;\n",
       "    }\n",
       "\n",
       "    .dataframe tbody tr th {\n",
       "        vertical-align: top;\n",
       "    }\n",
       "\n",
       "    .dataframe thead th {\n",
       "        text-align: right;\n",
       "    }\n",
       "</style>\n",
       "<table border=\"1\" class=\"dataframe\">\n",
       "  <thead>\n",
       "    <tr style=\"text-align: right;\">\n",
       "      <th></th>\n",
       "      <th>min</th>\n",
       "      <th>max</th>\n",
       "    </tr>\n",
       "    <tr>\n",
       "      <th>City</th>\n",
       "      <th></th>\n",
       "      <th></th>\n",
       "    </tr>\n",
       "  </thead>\n",
       "  <tbody>\n",
       "    <tr>\n",
       "      <th>Bangalore</th>\n",
       "      <td>50214.0</td>\n",
       "      <td>399612.0</td>\n",
       "    </tr>\n",
       "    <tr>\n",
       "      <th>New Delhi</th>\n",
       "      <td>50135.0</td>\n",
       "      <td>399785.0</td>\n",
       "    </tr>\n",
       "    <tr>\n",
       "      <th>Pune</th>\n",
       "      <td>51044.0</td>\n",
       "      <td>397693.0</td>\n",
       "    </tr>\n",
       "  </tbody>\n",
       "</table>\n",
       "</div>"
      ],
      "text/plain": [
       "               min       max\n",
       "City                        \n",
       "Bangalore  50214.0  399612.0\n",
       "New Delhi  50135.0  399785.0\n",
       "Pune       51044.0  397693.0"
      ]
     },
     "execution_count": 21,
     "metadata": {},
     "output_type": "execute_result"
    }
   ],
   "source": [
    "df.groupby('City')['Salary'].agg(['min','max'])"
   ]
  },
  {
   "cell_type": "markdown",
   "id": "e46da3db-30b2-4b88-8f59-d2e677860a5c",
   "metadata": {},
   "source": [
    "## Perform grouping on and display JOB_ID and it's count"
   ]
  },
  {
   "cell_type": "code",
   "execution_count": 13,
   "id": "8105b79b-d3da-4b48-ad6b-9607453b8e05",
   "metadata": {},
   "outputs": [
    {
     "data": {
      "text/plain": [
       "City\n",
       "Bangalore    840\n",
       "Pune         497\n",
       "New Delhi    456\n",
       "Name: count, dtype: int64"
      ]
     },
     "execution_count": 13,
     "metadata": {},
     "output_type": "execute_result"
    }
   ],
   "source": [
    "df['City'].value_counts()"
   ]
  },
  {
   "cell_type": "markdown",
   "id": "b5d9c845-fb0c-449a-a3de-93ed83d81a9c",
   "metadata": {},
   "source": [
    "## Show data visualization for any column"
   ]
  },
  {
   "cell_type": "code",
   "execution_count": 14,
   "id": "00598fc4-84da-4382-b700-19bb3efe4fdd",
   "metadata": {},
   "outputs": [
    {
     "data": {
      "text/plain": [
       "<matplotlib.collections.PathCollection at 0x2675e574810>"
      ]
     },
     "execution_count": 14,
     "metadata": {},
     "output_type": "execute_result"
    },
    {
     "data": {
      "image/png": "[encoded data removed]",
      "text/plain": [
       "<Figure size 640x480 with 1 Axes>"
      ]
     },
     "metadata": {},
     "output_type": "display_data"
    }
   ],
   "source": [
    "plt.scatter(df['Age'],df['Salary'])"
   ]
  },
  {
   "cell_type": "code",
   "execution_count": 15,
   "id": "0a66042a-385d-42df-9b58-6e8e1c7041aa",
   "metadata": {},
   "outputs": [
    {
     "data": {
      "image/png": "[encoded data removed]",
      "text/plain": [
       "<Figure size 640x480 with 1 Axes>"
      ]
     },
     "metadata": {},
     "output_type": "display_data"
    }
   ],
   "source": [
    "\n",
    "plt.hist(df['Age'],  color='skyblue', edgecolor='black')\n",
    "plt.title('Histogram of Age')\n",
    "plt.xlabel('Age')\n",
    "plt.ylabel('Frequency')\n",
    "plt.grid(True)\n",
    "plt.show()"
   ]
  },
  {
   "cell_type": "code",
   "execution_count": null,
   "id": "4f6dd76f-bfa1-4742-bd33-446dbd22c15c",
   "metadata": {},
   "outputs": [],
   "source": []
  }
 ],
 "metadata": {
  "kernelspec": {
   "display_name": "Python 3 (ipykernel)",
   "language": "python",
   "name": "python3"
  },
  "language_info": {
   "codemirror_mode": {
    "name": "ipython",
    "version": 3
   },
   "file_extension": ".py",
   "mimetype": "text/x-python",
   "name": "python",
   "nbconvert_exporter": "python",
   "pygments_lexer": "ipython3",
   "version": "3.11.7"
  }
 },
 "nbformat": 4,
 "nbformat_minor": 5
}
